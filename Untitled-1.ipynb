{
 "cells": [
  {
   "cell_type": "code",
   "execution_count": 1,
   "metadata": {},
   "outputs": [
    {
     "name": "stdout",
     "output_type": "stream",
     "text": [
      "(tensor([[[-0.3694,  0.8690, -0.5019,  ..., -0.0312, -0.5124,  0.4189],\n",
      "         [ 0.1345,  1.0131, -0.5508,  ..., -0.3086, -0.0708,  0.3832],\n",
      "         [ 0.2838,  0.9981, -0.2762,  ..., -0.3459, -0.1061,  0.3285],\n",
      "         ...,\n",
      "         [ 1.2105, -0.0969, -0.9983,  ...,  0.3943, -0.4170,  0.2097],\n",
      "         [ 1.2026, -0.2558, -0.7577,  ...,  0.1887, -0.1879, -0.0436],\n",
      "         [ 1.1829,  0.0472, -1.2719,  ...,  0.1026, -0.1448,  0.1224]]],\n",
      "       grad_fn=<ViewBackward0>), tensor(10.0896, grad_fn=<NllLoss2DBackward0>))\n"
     ]
    }
   ],
   "source": [
    "import torch\n",
    "from rt2.model import RT2\n",
    "\n",
    "# Dữ liệu mẫu\n",
    "img = torch.randn(1, 3, 256, 256)\n",
    "caption = torch.randint(0, 20000, (1, 1024))\n",
    "\n",
    "# Khởi tạo mô hình\n",
    "model = RT2()\n",
    "\n",
    "# Chạy mô hình\n",
    "output = model(img, caption)\n",
    "print(output)"
   ]
  },
  {
   "cell_type": "code",
   "execution_count": 2,
   "metadata": {},
   "outputs": [],
   "source": [
    "import os\n",
    "\n",
    "# Đổi tên file\n",
    "os.rename('Untitled-1.ipynb', 'your_script.ipynb')\n",
    "\n"
   ]
  },
  {
   "cell_type": "code",
   "execution_count": null,
   "metadata": {},
   "outputs": [],
   "source": [
    "python -m pip list"
   ]
  },
  {
   "cell_type": "code",
   "execution_count": null,
   "metadata": {},
   "outputs": [],
   "source": []
  }
 ],
 "metadata": {
  "kernelspec": {
   "display_name": "Python 3",
   "language": "python",
   "name": "python3"
  },
  "language_info": {
   "codemirror_mode": {
    "name": "ipython",
    "version": 3
   },
   "file_extension": ".py",
   "mimetype": "text/x-python",
   "name": "python",
   "nbconvert_exporter": "python",
   "pygments_lexer": "ipython3",
   "version": "3.10.12"
  }
 },
 "nbformat": 4,
 "nbformat_minor": 2
}
