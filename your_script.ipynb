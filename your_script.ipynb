{
 "cells": [
  {
   "cell_type": "code",
   "execution_count": 1,
   "metadata": {},
   "outputs": [
    {
     "name": "stdout",
     "output_type": "stream",
     "text": [
      "(tensor([[[-0.7912, -0.7926,  0.0754,  ...,  0.5004,  0.0838,  0.4082],\n",
      "         [-0.9720, -0.5574,  0.0689,  ...,  0.7336, -0.0973,  0.3532],\n",
      "         [-0.9715, -0.4206,  0.3140,  ...,  0.8728, -0.0942,  0.2244],\n",
      "         ...,\n",
      "         [-0.1324,  0.1452,  0.2676,  ..., -0.0756,  0.5106,  0.4227],\n",
      "         [-0.2484,  0.1690,  0.3653,  ..., -0.1423,  0.4072,  0.5506],\n",
      "         [-0.1645,  0.0793,  0.1288,  ..., -0.1167,  0.4824,  0.2482]]],\n",
      "       grad_fn=<ViewBackward0>), tensor(10.0477, grad_fn=<NllLoss2DBackward0>))\n"
     ]
    }
   ],
   "source": [
    "import torch\n",
    "from rt2.model import RT2\n",
    "\n",
    "# Dữ liệu mẫu\n",
    "img = torch.randn(1, 3, 256, 256)\n",
    "caption = torch.randint(0, 20000, (1, 1024))\n",
    "\n",
    "# Khởi tạo mô hình\n",
    "model = RT2()\n",
    "\n",
    "# Chạy mô hình\n",
    "output = model(img, caption)\n",
    "print(output)"
   ]
  },
  {
   "cell_type": "code",
   "execution_count": null,
   "metadata": {},
   "outputs": [],
   "source": [
    "ls\n",
    "\n"
   ]
  },
  {
   "cell_type": "code",
   "execution_count": null,
   "metadata": {},
   "outputs": [],
   "source": [
    "python -m pip list"
   ]
  },
  {
   "cell_type": "code",
   "execution_count": null,
   "metadata": {},
   "outputs": [],
   "source": []
  }
 ],
 "metadata": {
  "kernelspec": {
   "display_name": "Python 3",
   "language": "python",
   "name": "python3"
  },
  "language_info": {
   "codemirror_mode": {
    "name": "ipython",
    "version": 3
   },
   "file_extension": ".py",
   "mimetype": "text/x-python",
   "name": "python",
   "nbconvert_exporter": "python",
   "pygments_lexer": "ipython3",
   "version": "3.10.12"
  }
 },
 "nbformat": 4,
 "nbformat_minor": 2
}
